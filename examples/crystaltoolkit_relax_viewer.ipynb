{
 "cells": [
  {
   "attachments": {},
   "cell_type": "markdown",
   "id": "f8c75a16",
   "metadata": {},
   "source": [
    "# Crystaltoolkit Relaxation Viewer\n",
    "\n",
    "This notebook shows how to visualize a CHGNet relaxation trajectory in a Plotly Dash app using Crystal Toolkit.\n"
   ]
  },
  {
   "attachments": {},
   "cell_type": "markdown",
   "id": "a51da8f4",
   "metadata": {},
   "source": [
    "Running the last cell in this notebook should spin up a `dash` app that looks like this:\n",
    "\n",
    "![Crystaltoolkit Relaxation Viewer Screenshot](https://user-images.githubusercontent.com/30958850/230510639-2e659c9b-3a99-438b-9668-628299171602.png)\n"
   ]
  },
  {
   "cell_type": "code",
   "execution_count": null,
   "id": "156e8031",
   "metadata": {},
   "outputs": [
    {
     "name": "stdout",
     "output_type": "stream",
     "text": [
      "Cloning into 'chgnet'...\n",
      "remote: Enumerating objects: 50, done.\u001b[K\n",
      "remote: Counting objects: 100% (50/50), done.\u001b[K\n",
      "remote: Compressing objects: 100% (47/47), done.\u001b[K\n",
      "remote: Total 50 (delta 1), reused 17 (delta 0), pack-reused 0\u001b[K\n",
      "Receiving objects: 100% (50/50), 4.25 MiB | 2.70 MiB/s, done.\n",
      "Resolving deltas: 100% (1/1), done.\n",
      "zsh:1: no matches found: ./chgnet[crystal-toolkit]\n"
     ]
    }
   ],
   "source": [
    "try:\n",
    "    import chgnet\n",
    "except ImportError:\n",
    "    # install CHGNet with extra dependencies to run the dash app in this notebook\n",
    "    # https://github.com/materialsproject/crystaltoolkit\n",
    "    # (only needed on Google Colab or if you didn't install these packages yet)\n",
    "    !git clone --depth 1 https://github.com/CederGroupHub/chgnet\n",
    "    !pip install './chgnet[examples]'"
   ]
  },
  {
   "cell_type": "code",
   "execution_count": null,
   "id": "7ead933c",
   "metadata": {},
   "outputs": [],
   "source": [
    "import numpy as np\n",
    "from pymatgen.core import Structure"
   ]
  },
  {
   "cell_type": "code",
   "execution_count": null,
   "id": "e6792912",
   "metadata": {},
   "outputs": [],
   "source": [
    "try:\n",
    "    from chgnet import ROOT\n",
    "\n",
    "    structure = Structure.from_file(f\"{ROOT}/examples/mp-18767-LiMnO2.cif\")\n",
    "except Exception:\n",
    "    from urllib.request import urlopen\n",
    "\n",
    "    url = \"https://github.com/CederGroupHub/chgnet/raw/-/examples/mp-18767-LiMnO2.cif\"\n",
    "    cif = urlopen(url).read().decode(\"utf-8\")\n",
    "    structure = Structure.from_str(cif, fmt=\"cif\")"
   ]
  },
  {
   "cell_type": "code",
   "execution_count": null,
   "id": "208fa4aa",
   "metadata": {},
   "outputs": [
    {
     "name": "stdout",
     "output_type": "stream",
     "text": [
      "original: ('Pmmn', 59)\n",
      "perturbed: ('P1', 1)\n"
     ]
    }
   ],
   "source": [
    "print(f\"original: {structure.get_space_group_info()}\")\n",
    "\n",
    "# perturb all atom positions by a small amount\n",
    "for site in structure:\n",
    "    site.coords += np.random.normal(size=3) * 0.3\n",
    "\n",
    "# stretch the cell by a small amount\n",
    "structure.scale_lattice(structure.volume * 1.1)\n",
    "\n",
    "print(f\"perturbed: {structure.get_space_group_info()}\")"
   ]
  },
  {
   "cell_type": "code",
   "execution_count": null,
   "id": "5d6e9fcc",
   "metadata": {},
   "outputs": [
    {
     "name": "stdout",
     "output_type": "stream",
     "text": [
      "CHGNet initialized with 400,438 parameters\n",
      "CHGNet will run on cpu\n",
      "      Step     Time          Energy         fmax\n",
      "*Force-consistent energies used in optimization.\n",
      "FIRE:    0 14:01:10      -51.912251*      27.2278\n",
      "FIRE:    1 14:01:10      -54.259518*      12.3964\n",
      "FIRE:    2 14:01:10      -54.778671*       8.5672\n",
      "FIRE:    3 14:01:11      -55.339821*       5.5388\n",
      "FIRE:    4 14:01:11      -55.653206*       7.1592\n",
      "FIRE:    5 14:01:11      -56.225849*       6.6752\n",
      "FIRE:    6 14:01:11      -56.975388*       4.2375\n",
      "FIRE:    7 14:01:11      -57.431259*       4.4837\n",
      "FIRE:    8 14:01:11      -57.696171*       5.3055\n",
      "FIRE:    9 14:01:11      -57.933193*       3.3038\n",
      "FIRE:   10 14:01:11      -57.887894*       6.1535\n",
      "FIRE:   11 14:01:11      -57.981998*       4.7339\n",
      "FIRE:   12 14:01:12      -58.107471*       3.2390\n",
      "FIRE:   13 14:01:12      -58.196518*       2.3609\n",
      "FIRE:   14 14:01:12      -58.237015*       2.6211\n",
      "FIRE:   15 14:01:12      -58.271477*       3.3198\n",
      "FIRE:   16 14:01:12      -58.323418*       3.1086\n",
      "FIRE:   17 14:01:12      -58.385509*       2.3118\n",
      "FIRE:   18 14:01:12      -58.443253*       1.6311\n",
      "FIRE:   19 14:01:12      -58.478363*       2.3351\n",
      "FIRE:   20 14:01:12      -58.506485*       2.9915\n",
      "FIRE:   21 14:01:13      -58.553890*       2.3584\n",
      "FIRE:   22 14:01:13      -58.591610*       1.3229\n",
      "FIRE:   23 14:01:13      -58.600597*       2.5641\n",
      "FIRE:   24 14:01:13      -58.612297*       2.2842\n",
      "FIRE:   25 14:01:13      -58.631424*       1.7666\n",
      "FIRE:   26 14:01:13      -58.651585*       1.1141\n",
      "FIRE:   27 14:01:14      -58.667530*       1.0229\n",
      "FIRE:   28 14:01:14      -58.678112*       1.0305\n",
      "FIRE:   29 14:01:14      -58.686382*       1.3254\n",
      "FIRE:   30 14:01:14      -58.695862*       1.3551\n",
      "FIRE:   31 14:01:14      -58.708542*       1.1167\n",
      "FIRE:   32 14:01:14      -58.721897*       0.8152\n",
      "FIRE:   33 14:01:14      -58.732655*       0.9976\n",
      "FIRE:   34 14:01:14      -58.743347*       1.2707\n",
      "FIRE:   35 14:01:14      -58.759544*       1.0066\n",
      "FIRE:   36 14:01:15      -58.777481*       0.5213\n",
      "FIRE:   37 14:01:15      -58.788338*       1.0805\n",
      "FIRE:   38 14:01:15      -58.805302*       1.2441\n",
      "FIRE:   39 14:01:15      -58.834023*       0.4629\n",
      "FIRE:   40 14:01:15      -58.856319*       1.0140\n",
      "FIRE:   41 14:01:15      -58.881325*       0.5240\n",
      "FIRE:   42 14:01:15      -58.898716*       1.1566\n",
      "FIRE:   43 14:01:15      -58.921391*       0.4211\n",
      "FIRE:   44 14:01:15      -58.932678*       0.5672\n",
      "FIRE:   45 14:01:15      -58.941673*       0.8468\n",
      "FIRE:   46 14:01:16      -58.946671*       0.4729\n",
      "FIRE:   47 14:01:16      -58.948338*       0.5703\n",
      "FIRE:   48 14:01:16      -58.948872*       0.4885\n",
      "FIRE:   49 14:01:16      -58.949738*       0.3384\n",
      "FIRE:   50 14:01:16      -58.950603*       0.2155\n",
      "FIRE:   51 14:01:16      -58.951290*       0.2596\n",
      "FIRE:   52 14:01:16      -58.951885*       0.2818\n",
      "FIRE:   53 14:01:16      -58.952572*       0.2948\n",
      "FIRE:   54 14:01:17      -58.953487*       0.2832\n",
      "FIRE:   55 14:01:17      -58.954651*       0.1820\n",
      "FIRE:   56 14:01:17      -58.955776*       0.1377\n",
      "FIRE:   57 14:01:17      -58.956646*       0.1858\n",
      "FIRE:   58 14:01:17      -58.957542*       0.2483\n",
      "FIRE:   59 14:01:17      -58.958771*       0.1507\n",
      "FIRE:   60 14:01:17      -58.959930*       0.1098\n",
      "FIRE:   61 14:01:17      -58.960972*       0.2491\n",
      "FIRE:   62 14:01:17      -58.962578*       0.1265\n",
      "FIRE:   63 14:01:17      -58.964127*       0.1622\n",
      "FIRE:   64 14:01:18      -58.965885*       0.1447\n",
      "FIRE:   65 14:01:18      -58.967422*       0.2064\n",
      "FIRE:   66 14:01:18      -58.968880*       0.0730\n"
     ]
    }
   ],
   "source": [
    "import pandas as pd\n",
    "\n",
    "from chgnet.model import StructOptimizer\n",
    "\n",
    "trajectory = StructOptimizer().relax(structure)[\"trajectory\"]"
   ]
  },
  {
   "cell_type": "code",
   "execution_count": null,
   "id": "c04ebd43",
   "metadata": {},
   "outputs": [],
   "source": [
    "e_col = \"Energy (eV)\"\n",
    "force_col = \"Force (eV/Å)\"\n",
    "df_traj = pd.DataFrame(trajectory.energies, columns=[e_col])\n",
    "df_traj[force_col] = [\n",
    "    np.linalg.norm(force, axis=1).mean()  # mean of norm of force on each atom\n",
    "    for force in trajectory.forces\n",
    "]\n",
    "df_traj.index.name = \"step\""
   ]
  },
  {
   "cell_type": "code",
   "execution_count": null,
   "id": "e7a91576",
   "metadata": {},
   "outputs": [
    {
     "name": "stdout",
     "output_type": "stream",
     "text": [
      "dft_energy=-59.09 eV (see https://materialsproject.org/materials/mp-18767)\n"
     ]
    }
   ],
   "source": [
    "mp_id = \"mp-18767\"\n",
    "\n",
    "dft_energy = -59.09\n",
    "print(f\"{dft_energy=:.2f} eV (see https://materialsproject.org/materials/{mp_id})\")"
   ]
  },
  {
   "cell_type": "code",
   "execution_count": null,
   "id": "c9f16422",
   "metadata": {},
   "outputs": [
    {
     "name": "stderr",
     "output_type": "stream",
     "text": [
      "/Users/janosh/dev/crystaltoolkit/crystal_toolkit/components/diffraction_tem.py:18: UserWarning: The TEMDiffractionComponent requires the py4DSTEM package.\n",
      "  warn(\"The TEMDiffractionComponent requires the py4DSTEM package.\")\n",
      "/Users/janosh/dev/crystaltoolkit/crystal_toolkit/components/localenv.py:50: UserWarning: Using dscribe SOAP and REMatchKernel requires the dscribe package which was made optional since it in turn requires numba and numba was a common source of installation issues.\n",
      "  warn(\n"
     ]
    },
    {
     "name": "stdout",
     "output_type": "stream",
     "text": [
      "No module named 'phonopy'\n"
     ]
    },
    {
     "data": {
      "text/html": [
       "\n",
       "        <iframe\n",
       "            width=\"100%\"\n",
       "            height=\"800\"\n",
       "            src=\"http://127.0.0.1:8050/\"\n",
       "            frameborder=\"0\"\n",
       "            allowfullscreen\n",
       "            \n",
       "        ></iframe>\n",
       "        "
      ],
      "text/plain": [
       "<IPython.lib.display.IFrame at 0x14d031410>"
      ]
     },
     "metadata": {},
     "output_type": "display_data"
    }
   ],
   "source": [
    "import crystal_toolkit.components as ctc\n",
    "import plotly.graph_objects as go\n",
    "from crystal_toolkit.settings import SETTINGS\n",
    "from dash import Dash, dcc, html\n",
    "from dash.dependencies import Input, Output\n",
    "from pymatgen.core import Structure\n",
    "\n",
    "app = Dash(prevent_initial_callbacks=True, assets_folder=SETTINGS.ASSETS_PATH)\n",
    "\n",
    "step_size = max(1, len(trajectory) // 20)  # ensure slider has max 20 steps\n",
    "slider = dcc.Slider(\n",
    "    id=\"slider\", min=0, max=len(trajectory) - 1, step=step_size, updatemode=\"drag\"\n",
    ")\n",
    "\n",
    "\n",
    "def plot_energy_and_forces(\n",
    "    df: pd.DataFrame, step: int, e_col: str, force_col: str, title: str\n",
    ") -> go.Figure:\n",
    "    \"\"\"Plot energy and forces as a function of relaxation step.\"\"\"\n",
    "    fig = go.Figure()\n",
    "    # energy trace = primary y-axis\n",
    "    fig.add_trace(go.Scatter(x=df.index, y=df[e_col], mode=\"lines\", name=\"Energy\"))\n",
    "    # get energy line color\n",
    "    line_color = fig.data[0].line.color\n",
    "\n",
    "    # forces trace = secondary y-axis\n",
    "    fig.add_trace(\n",
    "        go.Scatter(x=df.index, y=df[force_col], mode=\"lines\", name=\"Forces\", yaxis=\"y2\")\n",
    "    )\n",
    "\n",
    "    fig.update_layout(\n",
    "        template=\"plotly_white\",\n",
    "        title=title,\n",
    "        xaxis=dict(title=\"Relaxation Step\"),\n",
    "        yaxis=dict(title=e_col),\n",
    "        yaxis2=dict(title=force_col, overlaying=\"y\", side=\"right\"),\n",
    "        legend=dict(yanchor=\"top\", y=1, xanchor=\"right\", x=1),\n",
    "    )\n",
    "\n",
    "    # vertical line at the specified step\n",
    "    fig.add_vline(x=step, line=dict(dash=\"dash\", width=1))\n",
    "\n",
    "    # horizontal line for DFT final energy\n",
    "    anno = dict(text=\"DFT final energy\", yanchor=\"top\")\n",
    "    fig.add_hline(\n",
    "        y=dft_energy,\n",
    "        line=dict(dash=\"dot\", width=1, color=line_color),\n",
    "        annotation=anno,\n",
    "    )\n",
    "\n",
    "    return fig\n",
    "\n",
    "\n",
    "def make_title(spg_symbol: str, spg_num: int) -> str:\n",
    "    \"\"\"Return a title for the figure.\"\"\"\n",
    "    href = f\"https://materialsproject.org/materials/{mp_id}/\"\n",
    "    return f\"<a {href=}>{mp_id}</a> - {spg_symbol} ({spg_num})\"\n",
    "\n",
    "\n",
    "title = make_title(*structure.get_space_group_info())\n",
    "\n",
    "graph = dcc.Graph(\n",
    "    id=\"fig\",\n",
    "    figure=plot_energy_and_forces(df_traj, 0, e_col, force_col, title),\n",
    "    style={\"maxWidth\": \"50%\"},\n",
    ")\n",
    "\n",
    "struct_comp = ctc.StructureMoleculeComponent(id=\"structure\", struct_or_mol=structure)\n",
    "\n",
    "app.layout = html.Div(\n",
    "    [\n",
    "        html.H1(\n",
    "            \"Structure Relaxation Trajectory\", style=dict(margin=\"1em\", fontSize=\"2em\")\n",
    "        ),\n",
    "        html.P(\"Drag slider to see structure at different relaxation steps.\"),\n",
    "        slider,\n",
    "        html.Div([struct_comp.layout(), graph], style=dict(display=\"flex\", gap=\"2em\")),\n",
    "    ],\n",
    "    style=dict(margin=\"auto\", textAlign=\"center\", maxWidth=\"1200px\", padding=\"2em\"),\n",
    ")\n",
    "\n",
    "ctc.register_crystal_toolkit(app=app, layout=app.layout)\n",
    "\n",
    "\n",
    "@app.callback(\n",
    "    Output(struct_comp.id(), \"data\"), Output(graph, \"figure\"), Input(slider, \"value\")\n",
    ")\n",
    "def update_structure(step: int) -> tuple[Structure, go.Figure]:\n",
    "    \"\"\"Update the structure displayed in the StructureMoleculeComponent and the\n",
    "    dashed vertical line in the figure when the slider is moved.\n",
    "    \"\"\"\n",
    "    lattice = trajectory.cells[step]\n",
    "    coords = trajectory.atom_positions[step]\n",
    "    structure.lattice = lattice  # update structure in place for efficiency\n",
    "    assert len(structure) == len(coords)\n",
    "    for site, coord in zip(structure, coords):\n",
    "        site.coords = coord\n",
    "\n",
    "    title = make_title(*structure.get_space_group_info())\n",
    "    fig = plot_energy_and_forces(df_traj, step, e_col, force_col, title)\n",
    "\n",
    "    return structure, fig\n",
    "\n",
    "\n",
    "app.run(mode=\"inline\", height=800, use_reloader=False)"
   ]
  }
 ],
 "metadata": {
  "kernelspec": {
   "display_name": "py310",
   "language": "python",
   "name": "python3"
  },
  "language_info": {
   "codemirror_mode": {
    "name": "ipython",
    "version": 3
   },
   "file_extension": ".py",
   "mimetype": "text/x-python",
   "name": "python",
   "nbconvert_exporter": "python",
   "pygments_lexer": "ipython3",
   "version": "3.11.4"
  }
 },
 "nbformat": 4,
 "nbformat_minor": 5
}
